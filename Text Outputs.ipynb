{
 "cells": [
  {
   "cell_type": "code",
   "execution_count": 5,
   "metadata": {
    "collapsed": false
   },
   "outputs": [
    {
     "name": "stdout",
     "output_type": "stream",
     "text": [
      "Holiday         is              habitation      with   orbit.\n",
      "Cut             is              existence       with   orbit.\n",
      "Absence         is              company         with   distance.\n",
      "Vacancy         is              existence       with   area.\n",
      "Cut             is              habitation      with   area.\n",
      "Holiday         is              existence       with   orbit.\n",
      "Cut             is              existence       with   orbit.\n",
      "Vacancy         is              company         with   distance.\n",
      "Absence         is              presence        with   expansion.\n",
      "Holiday         is              habitation      with   orbit.\n",
      "Cut             is              company         with   orbit.\n",
      "Hooky           is              presence        with   expansion.\n",
      "Vacancy         is              presence        with   orbit.\n",
      "Hooky           is              company         with   orbit.\n",
      "Holiday         is              company         with   distance.\n",
      "Holiday         is              presence        with   distance.\n",
      "Cut             is              existence       with   expansion.\n",
      "Absence         is              existence       with   orbit.\n",
      "Vacancy         is              being           with   expansion.\n",
      "Cut             is              presence        with   expansion.\n",
      "Hooky           is              existence       with   gap.\n",
      "Cut             is              habitation      with   orbit.\n",
      "Holiday         is              habitation      with   area.\n",
      "Vacancy         is              existence       with   distance.\n",
      "Absence         is              existence       with   gap.\n",
      "Holiday         is              existence       with   orbit.\n",
      "Absence         is              presence        with   orbit.\n",
      "Vacancy         is              being           with   expansion.\n",
      "Holiday         is              existence       with   area.\n",
      "Hooky           is              being           with   gap.\n",
      "Vacancy         is              existence       with   area.\n",
      "Holiday         is              presence        with   orbit.\n",
      "Cut             is              habitation      with   area.\n",
      "Hooky           is              presence        with   orbit.\n",
      "Vacancy         is              habitation      with   expansion.\n",
      "Holiday         is              company         with   area.\n",
      "Absence         is              company         with   gap.\n",
      "Absence         is              being           with   distance.\n",
      "Absence         is              presence        with   gap.\n",
      "Hooky           is              existence       with   orbit.\n",
      "Holiday         is              presence        with   gap.\n",
      "Vacancy         is              being           with   gap.\n",
      "Holiday         is              existence       with   expansion.\n",
      "Holiday         is              presence        with   distance.\n",
      "Holiday         is              being           with   gap.\n",
      "Absence         is              presence        with   expansion.\n",
      "Cut             is              being           with   expansion.\n",
      "Cut             is              presence        with   distance.\n",
      "Absence         is              presence        with   area.\n",
      "Vacancy         is              existence       with   area.\n",
      "Absence         is              presence        with   gap.\n",
      "Cut             is              habitation      with   gap.\n",
      "Holiday         is              habitation      with   distance.\n",
      "Absence         is              being           with   orbit.\n",
      "Cut             is              presence        with   area.\n"
     ]
    }
   ],
   "source": [
    "from random import choice, randint\n",
    "\n",
    "adjectives = \"Absence Cut Vacancy Holiday Hooky\".split()\n",
    "verbs = \"presence existence company being habitation \".split()\n",
    "nouns = \"distance area gap orbit expansion\".split()\n",
    "\n",
    "def errantic_poem():\n",
    "    \n",
    "    for x in range(randint(40,55)):\n",
    "        words1 = \" \".join([choice(adjectives)])\n",
    "        words2 = \" \".join([choice(verbs)])\n",
    "        words3 = \" \".join([choice(nouns)])\n",
    "        \n",
    "        for i in range(randint(1,1)):\n",
    "            words = choice([words1])\n",
    "            nords = choice([words2])\n",
    "            mords = choice([words3])\n",
    "            \n",
    "            \n",
    "            print (words + \"\\t\" + \"is\" + \"\\t\"  +  words2 + \"\\t\" + \"with\" + \" \"*3 + mords + \".\").expandtabs(16)\n",
    "             \n",
    "             \n",
    "errantic_poem()\n",
    "\n",
    "text_file = open('output.txt', 'w')\n",
    "text_file.write('my string i want to put in file')\n",
    "text_file.close()"
   ]
  },
  {
   "cell_type": "code",
   "execution_count": null,
   "metadata": {
    "collapsed": true
   },
   "outputs": [],
   "source": []
  }
 ],
 "metadata": {
  "kernelspec": {
   "display_name": "Python 2",
   "language": "python",
   "name": "python2"
  },
  "language_info": {
   "codemirror_mode": {
    "name": "ipython",
    "version": 2
   },
   "file_extension": ".py",
   "mimetype": "text/x-python",
   "name": "python",
   "nbconvert_exporter": "python",
   "pygments_lexer": "ipython2",
   "version": "2.7.10"
  }
 },
 "nbformat": 4,
 "nbformat_minor": 0
}
