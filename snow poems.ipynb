{
 "cells": [
  {
   "cell_type": "code",
   "execution_count": 16,
   "metadata": {
    "collapsed": false
   },
   "outputs": [
    {
     "name": "stdout",
     "output_type": "stream",
     "text": [
      "absence absenteeism cut nonappearance trauncy hooky nonattendance vacancy no-show\n",
      "absence absenteeism nonappearance trauncy hooky nonattendance vacancy no-show\n",
      "absence absenteeism nonappearance trauncy hooky nonattendance no-show\n",
      "absence absenteeism trauncy hooky nonattendance no-show\n",
      "absence trauncy hooky nonattendance no-show\n",
      "absence trauncy hooky no-show\n",
      "absence hooky no-show\n",
      "absence no-show\n",
      "no-show\n",
      "\n"
     ]
    }
   ],
   "source": [
    "poem=\"absence absenteeism cut nonappearance trauncy AWOL hooky nonattendance vacancy no-show\".split()\n",
    "import random\n",
    "\n",
    "while len(poem)>0:\n",
    "  poem.remove(random.choice(list(poem)))\n",
    "  print ' '.join(poem)"
   ]
  },
  {
   "cell_type": "code",
   "execution_count": 35,
   "metadata": {
    "collapsed": false
   },
   "outputs": [
    {
     "name": "stdout",
     "output_type": "stream",
     "text": [
      " < p@{m th^t f^ll l%k{ sn@w %n ^ M^rch m@rn%ng.\n"
     ]
    }
   ],
   "source": [
    "poem = ' A poem that fall like snow in a March morning.'\n",
    "replace = {'A':'<', 'a':'^','e':'{','i':'%', 'y':'$', 'o':'@', 'u':'&'}\n",
    "txt = replace_all(poem, replace) \n",
    "print txt "
   ]
  },
  {
   "cell_type": "code",
   "execution_count": 31,
   "metadata": {
    "collapsed": false,
    "scrolled": true
   },
   "outputs": [
    {
     "name": "stdout",
     "output_type": "stream",
     "text": [
      "< p@{m th^t f^ll l%k{ sn@w %n ^ m@rn%ng.\n",
      "< p@{m th^t f^ll sn@w %n ^ m@rn%ng.\n",
      "< p@{m f^ll sn@w %n ^ m@rn%ng.\n",
      "< p@{m sn@w %n ^ m@rn%ng.\n",
      "p@{m sn@w %n ^ m@rn%ng.\n",
      "p@{m sn@w %n m@rn%ng.\n",
      "p@{m sn@w %n\n",
      "p@{m sn@w\n",
      "p@{m\n",
      "\n"
     ]
    }
   ],
   "source": [
    "s=\"< p@{m th^t f^ll l%k{ sn@w %n ^ M^rch m@rn%ng.\".split()\n",
    "import random\n",
    "\n",
    "while len(s)>0:\n",
    "  s.remove(random.choice(list(s)))\n",
    "  print ' '.join(s)"
   ]
  }
 ],
 "metadata": {
  "kernelspec": {
   "display_name": "Python 2",
   "language": "python",
   "name": "python2"
  },
  "language_info": {
   "codemirror_mode": {
    "name": "ipython",
    "version": 2
   },
   "file_extension": ".py",
   "mimetype": "text/x-python",
   "name": "python",
   "nbconvert_exporter": "python",
   "pygments_lexer": "ipython2",
   "version": "2.7.10"
  }
 },
 "nbformat": 4,
 "nbformat_minor": 0
}
